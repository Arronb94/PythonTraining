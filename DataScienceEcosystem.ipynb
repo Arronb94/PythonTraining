{
 "cells": [
  {
   "cell_type": "markdown",
   "id": "df158247-7050-4828-a842-fdec274a2b83",
   "metadata": {},
   "source": [
    "# Data Science Tools and Ecosystem"
   ]
  },
  {
   "cell_type": "markdown",
   "id": "5df79315-58ad-4677-ac47-f5849ab08474",
   "metadata": {},
   "source": [
    "In this notebook, Data Science Tools and Ecosystem are summarized."
   ]
  },
  {
   "cell_type": "markdown",
   "id": "2cfd7073-1972-495b-b688-3a3442f4ba2f",
   "metadata": {},
   "source": [
    "**Objectives:**\n",
    "- Introduction to Rstudio.\n",
    "- Introduction to Jupyter Notebooks.\n",
    "- Discovering libraries for Data Science."
   ]
  },
  {
   "cell_type": "markdown",
   "id": "f7cb64e2-cac0-48d5-94d5-4db228ce3dee",
   "metadata": {},
   "source": [
    "Some of the popular languages that Data Scientists use are:\n",
    "1. SQL\n",
    "2. R\n",
    "3. Python"
   ]
  },
  {
   "cell_type": "markdown",
   "id": "b4cb59aa-dad0-412f-9e62-b763a5db159f",
   "metadata": {},
   "source": [
    "Some of the commonly used libraries used by Data Scientists include:\n",
    "1. Pandas \n",
    "2. NumPy\n",
    "3. Scikit-Learn"
   ]
  },
  {
   "cell_type": "markdown",
   "id": "dba0b159-c276-4a7c-8f01-166b3879843f",
   "metadata": {
    "tags": []
   },
   "source": [
    "|Data Science Tools|\n",
    "|---|\n",
    "|Spark|\n",
    "|SAS|\n",
    "|MLFlow|"
   ]
  },
  {
   "cell_type": "markdown",
   "id": "2e13c069-98da-46ad-8880-b9586a47495e",
   "metadata": {
    "tags": []
   },
   "source": [
    "### Below are a few examples of evaluating arithmetic expressions in Python"
   ]
  },
  {
   "cell_type": "code",
   "execution_count": 4,
   "id": "2ca96eb3-49ce-40d7-b1f4-a832a4c70234",
   "metadata": {
    "tags": []
   },
   "outputs": [
    {
     "data": {
      "text/plain": [
       "17"
      ]
     },
     "execution_count": 4,
     "metadata": {},
     "output_type": "execute_result"
    }
   ],
   "source": [
    "#This a simple arithmetic expression to mutiply then add integers\n",
    "(3*4)+5"
   ]
  },
  {
   "cell_type": "code",
   "execution_count": 7,
   "id": "c80f2332-2266-41b4-a6d7-d455a4a4ee6b",
   "metadata": {
    "tags": []
   },
   "outputs": [
    {
     "data": {
      "text/plain": [
       "3"
      ]
     },
     "execution_count": 7,
     "metadata": {},
     "output_type": "execute_result"
    }
   ],
   "source": [
    "#This will convert 200 minutes to hours by diving by 60, I wanted a whole number of hours\n",
    "200//60"
   ]
  },
  {
   "cell_type": "markdown",
   "id": "5b230d0b-c6bc-4043-a6fa-cbc1c8559db3",
   "metadata": {},
   "source": [
    "## Author\n",
    "Arron"
   ]
  },
  {
   "cell_type": "code",
   "execution_count": null,
   "id": "cbf4d604-dda6-45ad-a75a-6e3e914a7f4b",
   "metadata": {},
   "outputs": [],
   "source": []
  }
 ],
 "metadata": {
  "kernelspec": {
   "display_name": "Python",
   "language": "python",
   "name": "conda-env-python-py"
  },
  "language_info": {
   "codemirror_mode": {
    "name": "ipython",
    "version": 3
   },
   "file_extension": ".py",
   "mimetype": "text/x-python",
   "name": "python",
   "nbconvert_exporter": "python",
   "pygments_lexer": "ipython3",
   "version": "3.7.12"
  }
 },
 "nbformat": 4,
 "nbformat_minor": 5
}
